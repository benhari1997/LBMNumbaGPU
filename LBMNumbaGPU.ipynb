{
 "cells": [
  {
   "cell_type": "markdown",
   "id": "interesting-douglas",
   "metadata": {},
   "source": [
    "***\n",
    "## <center>LBM flow visualisation around Cylinder</center> \n",
    "#### <center> Student. Benhari Abdessalam -- Mines Paristech - February 2021 </center>\n",
    "***\n",
    "### > The approach :\n",
    "___\n",
    "\n",
    "To be able to parallelise the LBM code given below, we tried to analyse it and understand it first, this lead us to devide it into multiple sections, some that can be parallelised and some that can not (usually require a global syncronisation (_like the stream part_), which is very hard to achieve using one kernel and multiple thread blocks). We then tried to implement each section differently in order for it to fit the _CUDA_ requirements. Then we defined the size of our thread blocks and the number of threads in each one (which can be changed of course). Finally we tried to fine tune our code by merging the sections that could be parallelised to avoid any unnecessary syncronisation. We also minimised the data transfer between the _host_ and the _device_ by using local variables."
   ]
  },
  {
   "cell_type": "code",
   "execution_count": 1,
   "id": "sonic-recycling",
   "metadata": {},
   "outputs": [],
   "source": [
    "# Libraries importation\n",
    "import numpy as np\n",
    "import matplotlib.pyplot as plt\n",
    "from matplotlib import cm\n",
    "from numba import cuda\n",
    "from numba import prange\n",
    "from numba.cuda import device_array\n",
    "import numba\n",
    "import math"
   ]
  },
  {
   "cell_type": "markdown",
   "id": "willing-trauma",
   "metadata": {},
   "source": [
    "### > State & Variables definition  :\n",
    "---\n",
    "- #### Flow State:"
   ]
  },
  {
   "cell_type": "code",
   "execution_count": 2,
   "id": "logical-onion",
   "metadata": {},
   "outputs": [],
   "source": [
    "maxIter = 20000  # Total number of time iterations.\n",
    "Re = 150.0         # Reynolds number.\n",
    "nx, ny = 420, 180 # Numer of lattice nodes.\n",
    "ly = ny-1         # Height of the domain in lattice units.\n",
    "cx, cy, r = nx//4, ny//2, ny//9 # Coordinates of the cylinder.\n",
    "uLB     = 0.04                  # Velocity in lattice units.\n",
    "nulb    = uLB*r/Re;             # Viscoscity in lattice units.\n",
    "omega = 1 / (3*nulb+0.5);    # Relaxation parameter."
   ]
  },
  {
   "cell_type": "markdown",
   "id": "focal-responsibility",
   "metadata": {},
   "source": [
    "- #### Lattice Constants:"
   ]
  },
  {
   "cell_type": "code",
   "execution_count": 3,
   "id": "verified-while",
   "metadata": {},
   "outputs": [],
   "source": [
    "v = np.array([ [ 1,  1], [ 1,  0], [ 1, -1], [ 0,  1], [ 0,  0],\n",
    "               [ 0, -1], [-1,  1], [-1,  0], [-1, -1] ])\n",
    "v_g = cuda.to_device(v)\n",
    "\n",
    "t = np.array([ 1/36, 1/9, 1/36, 1/9, 4/9, 1/9, 1/36, 1/9, 1/36])\n",
    "t_g = cuda.to_device(t)\n",
    "col1 = np.array([0, 1, 2])\n",
    "col2 = np.array([3, 4, 5])\n",
    "col3 = np.array([6, 7, 8])"
   ]
  },
  {
   "cell_type": "markdown",
   "id": "expanded-template",
   "metadata": {},
   "source": [
    "- #### Cuda Parameters (threads/blocks):"
   ]
  },
  {
   "cell_type": "code",
   "execution_count": 4,
   "id": "ranking-photographer",
   "metadata": {},
   "outputs": [],
   "source": [
    "threadsperblock = (16, 16)\n",
    "blockspergrid_x = math.ceil(nx / threadsperblock[0])\n",
    "blockspergrid_y = math.ceil(ny / threadsperblock[1])\n",
    "blockspergrid = (blockspergrid_x, blockspergrid_y)"
   ]
  },
  {
   "cell_type": "markdown",
   "id": "thirty-travel",
   "metadata": {},
   "source": [
    "### > Functions initiation  :\n",
    "---\n",
    "- #### First flow state with initial velocity:"
   ]
  },
  {
   "cell_type": "code",
   "execution_count": 5,
   "id": "significant-morgan",
   "metadata": {},
   "outputs": [],
   "source": [
    "@cuda.jit\n",
    "def equilibrium(rho, feq):\n",
    "    \"\"\"Equilibrium distribution function.\n",
    "    \"\"\"\n",
    "    j, k = cuda.grid(2)\n",
    "    if j < nx and k < ny :\n",
    "        # initial velocity field\n",
    "        u_0 = uLB * (1 + 1e-4*math.sin(k/ly*2*math.pi))\n",
    "        u_1 = 0\n",
    "        for i in range(9):\n",
    "            cu = 3 * (v[i,0]*u_0 + v[i,1]*u_1)\n",
    "            feq[i,j,k] = rho * t[i] * (1 + cu + 0.5*cu**2 - 3/2 * (u_0**2 + u_1**2))"
   ]
  },
  {
   "cell_type": "markdown",
   "id": "suffering-florist",
   "metadata": {},
   "source": [
    "- #### Pre-stream operations (highly parallelised):"
   ]
  },
  {
   "cell_type": "code",
   "execution_count": 6,
   "id": "retired-penalty",
   "metadata": {},
   "outputs": [],
   "source": [
    "@cuda.jit\n",
    "def pre_stream(fin, fout, u, v, t, time):\n",
    "    j, k = cuda.grid(2)\n",
    "    if j<nx and k<ny:\n",
    "        # Set a local array for inside calculations\n",
    "        feq = cuda.local.array(9, dtype=numba.float64)\n",
    "        \n",
    "        # Create obstacle mask array from element-wise function\n",
    "        obstacle = int(((j-cx)**2+(k-cy)**2)< (r**2))\n",
    "        \n",
    "        # Right wall: outflow condition.\n",
    "        # we only need here to specify distrib. function for velocities\n",
    "        # that enter the domain (other that go out, are set by the streaming step)\n",
    "        if j==(nx-1):\n",
    "            for i in col3:\n",
    "                fin[i,j,k] = fin[i,j-1, k] \n",
    "\n",
    "        # Compute macroscopic variables, density and velocity.\n",
    "        # (using local variables)\n",
    "        rho = 0    \n",
    "        u_0 = 0\n",
    "        u_1 = 0\n",
    "        for i in range(9):\n",
    "            rho += fin[i,j,k]    \n",
    "            u_0 += v[i,0] * fin[i,j,k]\n",
    "            u_1 += v[i,1] * fin[i,j,k]\n",
    "        u_0 /= rho\n",
    "        u_1 /= rho\n",
    "        \n",
    "        # Left wall: inflow condition.\n",
    "        if j == 0:\n",
    "            rho = 0\n",
    "            u_0 = uLB * (1 + 1e-4*math.sin(k/ly*2*math.pi)) #  vel_0 (initial velocity fields)\n",
    "            u_1 = 0 # vel_1\n",
    "            for i_1, i_2 in zip(col2, col3):\n",
    "                rho+= fin[i_1,j,k] + 2*fin[i_2,j,k]\n",
    "            rho *= 1/(1-u_0)\n",
    "        \n",
    "        # Compute equilibrium.\n",
    "        for i in range(9):\n",
    "            cu = 3 * (v[i,0]*u_0 + v[i,1]*u_1)\n",
    "            feq[i] = rho * t[i] * (1 + cu + 0.5*cu**2 - 3/2 * (u_0**2 + u_1**2))\n",
    "        if j == 0 :\n",
    "            for i in range(3):\n",
    "                fin[i,j,k] = feq[i] + fin[8-i,j,k] - feq[8-i]\n",
    "                \n",
    "        # collision step.\n",
    "        for i in range(9):\n",
    "            fout[i, j, k] = fin[i, j, k] - omega * (fin[i, j, k] - feq[i])\n",
    "            \n",
    "        # Bounce-back condition for obstacle.\n",
    "        if obstacle:\n",
    "            for i in range(9):\n",
    "                fout[i, j, k] = fin[8-i, j, k]\n",
    "                \n",
    "        # Final velocity update.\n",
    "        if time == maxIter-1:\n",
    "            u[0, j, k] = u_0\n",
    "            u[1, j, k] = u_1"
   ]
  },
  {
   "cell_type": "markdown",
   "id": "earned-beverage",
   "metadata": {},
   "source": [
    "- #### Streaming function:"
   ]
  },
  {
   "cell_type": "code",
   "execution_count": 7,
   "id": "generic-relations",
   "metadata": {},
   "outputs": [],
   "source": [
    "@cuda.jit\n",
    "def stream(fin, fout, v):\n",
    "    j, k = cuda.grid(2)\n",
    "    if j<nx and k<ny:\n",
    "        for i in range(9):\n",
    "                fin[i, j, k] = fout[i, (j-v[i, 0]) % nx, (k-v[i, 1]) % ny]"
   ]
  },
  {
   "cell_type": "markdown",
   "id": "nearby-directory",
   "metadata": {},
   "source": [
    "### > Main Script  :\n",
    "---"
   ]
  },
  {
   "cell_type": "code",
   "execution_count": 8,
   "id": "declared-wrist",
   "metadata": {},
   "outputs": [],
   "source": [
    "def main():\n",
    "    # f values initialization\n",
    "    fin = np.zeros((9,nx,ny))\n",
    "    fin_g = cuda.to_device(fin)\n",
    "    fout = np.zeros((9,nx,ny))\n",
    "    fout_g = cuda.to_device(fout)\n",
    "    \n",
    "    # where to store the final velocity values\n",
    "    u = np.zeros((2,nx,ny))\n",
    "    u_g = cuda.to_device(u)\n",
    "    # Initialization of the populations at equilibrium \n",
    "    # with the given velocity.\n",
    "    equilibrium[blockspergrid, threadsperblock](1, fin_g)\n",
    "    \n",
    "    ###### Main time loop ########\n",
    "    for time in range(maxIter):\n",
    "        \n",
    "        # Pre-streaming step.\n",
    "        pre_stream[blockspergrid, threadsperblock](fin_g, fout_g, u_g, v_g, t_g, time)\n",
    "\n",
    "        # Streaming step.\n",
    "        stream[blockspergrid, threadsperblock](fin_g, fout_g, v_g) \n",
    " \n",
    "    # Visualization of the velocity (on final step).\n",
    "    u = u_g.copy_to_host()\n",
    "    plt.clf()\n",
    "    plt.imshow(np.sqrt(u[0]**2+u[1]**2).transpose(), cmap=cm.Reds)\n",
    "    plt.title(\"LBM flow on Cylinder\")\n",
    "    #plt.savefig(\"vel.{0:04d}.png\".format(time//100))"
   ]
  },
  {
   "cell_type": "markdown",
   "id": "removed-wages",
   "metadata": {},
   "source": [
    "### > Serial code :\n",
    "___"
   ]
  },
  {
   "cell_type": "code",
   "execution_count": 9,
   "id": "military-johnston",
   "metadata": {},
   "outputs": [],
   "source": [
    "###### Function Definitions ############################################\n",
    "def macroscopic(fin):\n",
    "    \"\"\"Compute macroscopic variables (density, velocity)\n",
    "\n",
    "    fluid density is 0th moment of distribution functions \n",
    "    fluid velocity components are 1st order moments of dist. functions\n",
    "    \"\"\"\n",
    "    rho = np.sum(fin, axis=0)\n",
    "    u = np.zeros((2, nx, ny))\n",
    "    for i in range(9):\n",
    "        u[0,:,:] += v[i,0] * fin[i,:,:]\n",
    "        u[1,:,:] += v[i,1] * fin[i,:,:]\n",
    "    u /= rho\n",
    "    return rho, u\n",
    "\n",
    "def equilibrium_s(rho, u):\n",
    "    \"\"\"Equilibrium distribution function.\n",
    "    \"\"\"\n",
    "    usqr = 3/2 * (u[0]**2 + u[1]**2)\n",
    "    feq = np.zeros((9,nx,ny))\n",
    "    for i in range(9):\n",
    "        cu = 3 * (v[i,0]*u[0,:,:] + v[i,1]*u[1,:,:])\n",
    "        feq[i,:,:] = rho*t[i] * (1 + cu + 0.5*cu**2 - usqr)\n",
    "    return feq\n",
    "\n",
    "#\n",
    "# Setup: cylindrical obstacle and velocity inlet with perturbation\n",
    "#\n",
    "# Creation of a mask with boolean values, defining the shape of the obstacle.\n",
    "#\n",
    "def obstacle_fun(x, y):\n",
    "    return (x-cx)**2+(y-cy)**2<r**2\n",
    "\n",
    "# Initial velocity profile: \n",
    "# almost zero, with a slight perturbation to trigger the instability.\n",
    "def inivel(d, x, y):\n",
    "    return (1-d) * uLB * (1 + 1e-4*np.sin(y/ly*2*np.pi))\n",
    "\n",
    "#############################################################\n",
    "def serial_main():\n",
    "\n",
    "    # create obstacle mask array from element-wise function\n",
    "    obstacle = np.fromfunction(obstacle_fun, (nx,ny))\n",
    "\n",
    "    # initial velocity field vx,vy from element-wise function\n",
    "    # vel is also used for inflow border condition\n",
    "    vel = np.fromfunction(inivel, (2,nx,ny))\n",
    "\n",
    "    # Initialization of the populations at equilibrium \n",
    "    # with the given velocity.\n",
    "    fin = equilibrium_s(1, vel)\n",
    "\n",
    "    ###### Main time loop ########\n",
    "    for time in range(maxIter):\n",
    "\n",
    "        # Right wall: outflow condition.\n",
    "        # we only need here to specify distrib. function for velocities\n",
    "        # that enter the domain (other that go out, are set by the streaming step)\n",
    "        fin[col3,nx-1,:] = fin[col3,nx-2,:] \n",
    "\n",
    "        # Compute macroscopic variables, density and velocity.\n",
    "        rho, u = macroscopic(fin)\n",
    "\n",
    "        # Left wall: inflow condition.\n",
    "        u[:,0,:] = vel[:,0,:]\n",
    "        rho[0,:] = 1/(1-u[0,0,:]) * ( np.sum(fin[col2,0,:], axis=0) +\n",
    "                                      2*np.sum(fin[col3,0,:], axis=0) )\n",
    "        \n",
    "        # Compute equilibrium.\n",
    "        feq = equilibrium_s(rho, u)\n",
    "        fin[[0,1,2],0,:] = feq[[0,1,2],0,:] + fin[[8,7,6],0,:] - feq[[8,7,6],0,:]\n",
    "\n",
    "        # Collision step.\n",
    "        fout = fin - omega * (fin - feq)\n",
    "\n",
    "        # Bounce-back condition for obstacle.\n",
    "        # in python language, we \"slice\" fout by obstacle\n",
    "        for i in range(9):\n",
    "            fout[i, obstacle] = fin[8-i, obstacle]\n",
    "\n",
    "        # Streaming step.\n",
    "        for i in range(9):\n",
    "            fin[i,:,:] = np.roll(np.roll(fout[i,:,:], v[i,0], axis=0),\n",
    "                                 v[i,1], axis=1 )\n",
    " \n",
    "        # Visualization of the velocity.\n",
    "        if (time%100==0):\n",
    "            plt.clf()\n",
    "            plt.imshow(np.sqrt(u[0]**2+u[1]**2).transpose(), cmap=cm.Reds)\n"
   ]
  },
  {
   "cell_type": "markdown",
   "id": "painted-graphic",
   "metadata": {},
   "source": [
    "### > Results & Comparison :\n",
    "---"
   ]
  },
  {
   "cell_type": "code",
   "execution_count": 10,
   "id": "overall-folks",
   "metadata": {},
   "outputs": [
    {
     "name": "stdout",
     "output_type": "stream",
     "text": [
      "Parallel time & Result : \n",
      "\n"
     ]
    },
    {
     "name": "stderr",
     "output_type": "stream",
     "text": [
      "UsageError: Line magic function `%#timeit` not found.\n"
     ]
    },
    {
     "data": {
      "image/png": "[encoded data removed]",
      "text/plain": [
       "<Figure size 432x288 with 1 Axes>"
      ]
     },
     "metadata": {
      "needs_background": "light"
     },
     "output_type": "display_data"
    }
   ],
   "source": [
    "if __name__ == \"__main__\":\n",
    "    # execute only if run as a script\n",
    "    print(\"Parallel time & Result : \\n\")\n",
    "    %timeit main()\n",
    "    print(\"\\nSerial time & Result : \\n\")\n",
    "    %timeit serial_main()"
   ]
  },
  {
   "cell_type": "markdown",
   "id": "uniform-mortality",
   "metadata": {},
   "source": [
    "Based on the results above, we clearly did speed up the execution (<b>x32 times faster!</b>), even though it isn t optimal, probably due to the data transfer and the syncronisation that is required on each loop iteration."
   ]
  }
 ],
 "metadata": {
  "kernelspec": {
   "display_name": "Python 3",
   "language": "python",
   "name": "python3"
  },
  "language_info": {
   "codemirror_mode": {
    "name": "ipython",
    "version": 3
   },
   "file_extension": ".py",
   "mimetype": "text/x-python",
   "name": "python",
   "nbconvert_exporter": "python",
   "pygments_lexer": "ipython3",
   "version": "3.8.8"
  }
 },
 "nbformat": 4,
 "nbformat_minor": 5
}